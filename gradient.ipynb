{
 "metadata": {
  "language_info": {
   "codemirror_mode": {
    "name": "ipython",
    "version": 3
   },
   "file_extension": ".py",
   "mimetype": "text/x-python",
   "name": "python",
   "nbconvert_exporter": "python",
   "pygments_lexer": "ipython3",
   "version": 3
  },
  "orig_nbformat": 2
 },
 "nbformat": 4,
 "nbformat_minor": 2,
 "cells": [
  {
   "cell_type": "code",
   "execution_count": null,
   "metadata": {},
   "outputs": [],
   "source": [
    "from sklearn.model_selection import  train_test_split\n",
    "from sklearn.metrics import classification_report\n",
    "from sklearn.datasets import  make_blobs\n",
    "import matplotlib.pyplot as plt\n",
    "import numpy as np \n"
   ]
  },
  {
   "cell_type": "code",
   "execution_count": null,
   "metadata": {},
   "outputs": [],
   "source": [
    "args = {\n",
    "\n",
    "    \"epochs\" : 100,\n",
    "    \"alpha\" : 0.01\n",
    "\n",
    "}"
   ]
  },
  {
   "cell_type": "code",
   "execution_count": null,
   "metadata": {},
   "outputs": [],
   "source": [
    "def sigmoid_activation(x):\n",
    "    return 1.0 / (1 + np.exp(-x))\n",
    "\n",
    "def sigmoid_deriv(x):\n",
    "    return x * (1 - x)\n",
    "\n",
    "def predict(X, W):\n",
    "    preds = sigmoid_activation(X.dot(W))\n",
    "\n",
    "    preds[preds <= 0.5 ] = 0\n",
    "    preds[preds > 0 ] = 1\n",
    "\n",
    "    return preds"
   ]
  },
  {
   "cell_type": "code",
   "execution_count": null,
   "metadata": {},
   "outputs": [],
   "source": [
    "(X, y) = make_blobs(n_samples=1000, n_features=2, centers=2, cluster_std=1.5,\n",
    "random_state=1)\n",
    "y = y.reshape((y.shape[0], 1))\n",
    "\n",
    "\n",
    "X = np.c_[X, np.ones((X.shape[0]))]\n",
    "\n",
    "(trainX, testX, trainY, testY) = train_test_split(X,y,test_size=0.5, random_state=42)"
   ]
  },
  {
   "cell_type": "code",
   "execution_count": null,
   "metadata": {},
   "outputs": [],
   "source": [
    "print(\"[Training]\")\n",
    "W = np.random.randn(X.shape[1],1)\n",
    "losses = []"
   ]
  },
  {
   "cell_type": "code",
   "execution_count": null,
   "metadata": {},
   "outputs": [],
   "source": [
    "for epoch in np.arange(0, args[\"epochs\"]):\n",
    "\n",
    "    preds = sigmoid_activation(trainX.dot(W))\n",
    "\n",
    "    error = preds - trainY\n",
    "    loss = np.sum(error ** 2)\n",
    "    losses.append(loss)\n",
    "\n",
    "    d = error * sigmoid_deriv(preds)\n",
    "    gradient = trainX.T.dot(d)\n",
    "\n",
    "    W += -args[\"alpha\"] * gradient\n",
    "\n",
    "    if epoch == 0 of (epoch + 1 ) % 5 == 0:\n",
    "        print(\"[INFO] epoch ={}, loss = {:.7f}\".format(int(epoch + 1), loss))"
   ]
  },
  {
   "cell_type": "code",
   "execution_count": null,
   "metadata": {},
   "outputs": [],
   "source": [
    "print(\"Evaluting model\")\n",
    "preds = predict(testX, W)\n",
    "print(classification_report(testY, preds))"
   ]
  },
  {
   "cell_type": "code",
   "execution_count": null,
   "metadata": {},
   "outputs": [],
   "source": [
    "plt.style.use(\"ggplot\")\n",
    "plt.figure()\n",
    "plt.title(\"DATA\")\n",
    "plt.scatter(testX[:, 0], testX[:, 1], marker=\"o\", c=testY[:, 0], s=30)\n",
    "\n",
    "plt.style.use(\"ggplot\")\n",
    "plt.figure()\n",
    "plt.plot(np.arange(0, args[\"epochs\"]), losses)\n",
    "plt.title(\"Training losses\")\n",
    "plt.xlabel(\"Epoch #\")\n",
    "plt.ylabel(\"Loss\")\n",
    "plt.show()"
   ]
  }
 ]
}