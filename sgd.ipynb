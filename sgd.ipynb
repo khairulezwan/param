{
 "metadata": {
  "language_info": {
   "codemirror_mode": {
    "name": "ipython",
    "version": 3
   },
   "file_extension": ".py",
   "mimetype": "text/x-python",
   "name": "python",
   "nbconvert_exporter": "python",
   "pygments_lexer": "ipython3",
   "version": 3
  },
  "orig_nbformat": 2
 },
 "nbformat": 4,
 "nbformat_minor": 2,
 "cells": [
  {
   "cell_type": "code",
   "execution_count": null,
   "metadata": {},
   "outputs": [],
   "source": [
    "from sklearn.model_selection import train_test_split\n",
    "from sklearn.metrics import classification_report\n",
    "from sklearn.datasets import make_blobs\n",
    "import matplotlib.pyplot as plt\n",
    "import numpy as np\n"
   ]
  },
  {
   "cell_type": "code",
   "execution_count": null,
   "metadata": {},
   "outputs": [],
   "source": [
    "def sigmoid_activation(x):\n",
    "# compute the sigmoid activation value for a given input\n",
    "    return 1.0 / (1 + np.exp(-x))\n",
    "\n",
    "def sigmoid_deriv(x):\n",
    "# compute the derivative of the sigmoid function ASSUMING\n",
    "# that the input `x` has already been passed through the sigmoid\n",
    "# activation function\n",
    "    return x * (1 - x)"
   ]
  },
  {
   "cell_type": "code",
   "execution_count": null,
   "metadata": {},
   "outputs": [],
   "source": [
    "def next_batch(X, y, batchSize):\n",
    "# loop over our dataset `X` in mini-batches, yielding a tuple of\n",
    "# the current batched data and labels\n",
    "    for i in np.arange(0, X.shape[0], batchSize):\n",
    "        yield (X[i:i + batchSize], y[i:i + batchSize])"
   ]
  },
  {
   "cell_type": "code",
   "execution_count": null,
   "metadata": {},
   "outputs": [],
   "source": [
    "args = [\n",
    "    \"epochs\" = 100,\n",
    "    \"alpha\" = 0.01,\n",
    "    \"batch-size\" = 32\n",
    "]"
   ]
  },
  {
   "cell_type": "code",
   "execution_count": null,
   "metadata": {},
   "outputs": [],
   "source": [
    "(X, y) = make_blobs(n_samples=1000, n_features=2, centers=2,\n",
    "cluster_std=1.5, random_state=1)\n",
    "y = y.reshape((y.shape[0], 1))"
   ]
  },
  {
   "cell_type": "code",
   "execution_count": null,
   "metadata": {},
   "outputs": [],
   "source": [
    "X = np.c_[X, np.ones((X.shape[0]))]\n",
    "\n",
    "# partition the data into training and testing splits using 50% of\n",
    "# the data for training and the remaining 50% for testing\n",
    "(trainX, testX, trainY, testY) = train_test_split(X, y,\n",
    "test_size=0.5, random_state=42)"
   ]
  },
  {
   "cell_type": "code",
   "execution_count": null,
   "metadata": {},
   "outputs": [],
   "source": [
    "print(\"[INFO] training...\")\n",
    "W = np.random.randn(X.shape[1], 1)\n",
    "losses = []"
   ]
  },
  {
   "cell_type": "code",
   "execution_count": null,
   "metadata": {},
   "outputs": [],
   "source": [
    "# loop over the desired number of epochs\n",
    "for epoch in np.arange(0, args[\"epochs\"]):\n",
    "# initialize the total loss for the epoch\n",
    "    epochLoss = []\n",
    "\n",
    "        # loop over our data in batches\n",
    "    for (batchX, batchY) in next_batch(trainX, trainY, args[\"batch_size\"]):\n",
    "        # take the dot product between our current batch of features\n",
    "        # and the weight matrix, then pass this value through our\n",
    "        # activation function\n",
    "        preds = sigmoid_activation(batchX.dot(W))\n",
    "\n",
    "        # now that we have our predictions, we need to determine the\n",
    "        # `error`, which is the difference between our predictions\n",
    "        # and the true values\n",
    "        error = preds - batchY\n",
    "        epochLoss.append(np.sum(error ** 2))\n",
    "\n",
    "        d = error * sigmoid_deriv(preds)\n",
    "        gradient = batchX.T.dot(d)\n",
    "\n",
    "        W += -args[\"alpha\"] * gradient\n",
    "\n",
    "   loss = np.average(epochLoss)\n",
    "   losses.append(loss)\n",
    "\n",
    "   if epoch == 0 or (epoch + 1) % 5 == 0:\n",
    "       print(\"[INFO] epoch={}, loss={:.7f}\".format(int(epoch + 1),loss))"
   ]
  },
  {
   "cell_type": "code",
   "execution_count": null,
   "metadata": {},
   "outputs": [],
   "source": [
    "# evaluate our model\n",
    "print(\"[INFO] evaluating...\")\n",
    "preds = predict(testX, W)\n",
    "print(classification_report(testY, preds))"
   ]
  },
  {
   "cell_type": "code",
   "execution_count": null,
   "metadata": {},
   "outputs": [],
   "source": [
    "# plot the (testing) classification data\n",
    "plt.style.use(\"ggplot\")\n",
    "plt.figure()\n",
    "plt.title(\"Data\")\n",
    "plt.scatter(testX[:, 0], testX[:, 1], marker=\"o\", c=testY[:, 0], s=30)\n",
    "\n",
    "\n",
    "# construct a figure that plots the loss over time\n",
    "plt.style.use(\"ggplot\")\n",
    "plt.figure()\n",
    "plt.plot(np.arange(0, args[\"epochs\"]), losses)\n",
    "plt.title(\"Training Loss\")\n",
    "plt.xlabel(\"Epoch #\")\n",
    "plt.ylabel(\"Loss\")\n",
    "plt.show()"
   ]
  }
 ]
}